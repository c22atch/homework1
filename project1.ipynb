{
  "cells": [
    {
      "metadata": {
        "trusted": true
      },
      "cell_type": "code",
      "source": "import pandas as pd\nimport numpy as np\n",
      "execution_count": 2,
      "outputs": []
    },
    {
      "metadata": {
        "trusted": true
      },
      "cell_type": "code",
      "source": "location = \"DC_Properties.csv\"\ndf = pd.read_csv(location)",
      "execution_count": 3,
      "outputs": [
        {
          "output_type": "stream",
          "text": "/home/nbuser/anaconda3_501/lib/python3.6/site-packages/IPython/core/interactiveshell.py:3020: DtypeWarning: Columns (18,19,20,21,22,23,24,33,34,35,37,43,45) have mixed types. Specify dtype option on import or set low_memory=False.\n  interactivity=interactivity, compiler=compiler, result=result)\n",
          "name": "stderr"
        }
      ]
    },
    {
      "metadata": {
        "trusted": true
      },
      "cell_type": "code",
      "source": "pd.set_option('display.max_rows', 500)\npd.set_option('display.max_columns', 500)\npd.set_option('display.width', 1000)\n",
      "execution_count": 4,
      "outputs": []
    },
    {
      "metadata": {
        "trusted": true
      },
      "cell_type": "code",
      "source": "df.head()\n",
      "execution_count": 7,
      "outputs": [
        {
          "output_type": "execute_result",
          "execution_count": 7,
          "data": {
            "text/html": "<div>\n<style scoped>\n    .dataframe tbody tr th:only-of-type {\n        vertical-align: middle;\n    }\n\n    .dataframe tbody tr th {\n        vertical-align: top;\n    }\n\n    .dataframe thead th {\n        text-align: right;\n    }\n</style>\n<table border=\"1\" class=\"dataframe\">\n  <thead>\n    <tr style=\"text-align: right;\">\n      <th></th>\n      <th>Unnamed: 0</th>\n      <th>BATHRM</th>\n      <th>HF_BATHRM</th>\n      <th>HEAT</th>\n      <th>AC</th>\n      <th>NUM_UNITS</th>\n      <th>ROOMS</th>\n      <th>BEDRM</th>\n      <th>AYB</th>\n      <th>YR_RMDL</th>\n      <th>EYB</th>\n      <th>STORIES</th>\n      <th>SALEDATE</th>\n      <th>PRICE</th>\n      <th>QUALIFIED</th>\n      <th>SALE_NUM</th>\n      <th>GBA</th>\n      <th>BLDG_NUM</th>\n      <th>STYLE</th>\n      <th>STRUCT</th>\n      <th>GRADE</th>\n      <th>CNDTN</th>\n      <th>EXTWALL</th>\n      <th>ROOF</th>\n      <th>INTWALL</th>\n      <th>KITCHENS</th>\n      <th>FIREPLACES</th>\n      <th>USECODE</th>\n      <th>LANDAREA</th>\n      <th>GIS_LAST_MOD_DTTM</th>\n      <th>SOURCE</th>\n      <th>CMPLX_NUM</th>\n      <th>LIVING_GBA</th>\n      <th>FULLADDRESS</th>\n      <th>CITY</th>\n      <th>STATE</th>\n      <th>ZIPCODE</th>\n      <th>NATIONALGRID</th>\n      <th>LATITUDE</th>\n      <th>LONGITUDE</th>\n      <th>ASSESSMENT_NBHD</th>\n      <th>ASSESSMENT_SUBNBHD</th>\n      <th>CENSUS_TRACT</th>\n      <th>CENSUS_BLOCK</th>\n      <th>WARD</th>\n      <th>SQUARE</th>\n      <th>X</th>\n      <th>Y</th>\n      <th>QUADRANT</th>\n    </tr>\n  </thead>\n  <tbody>\n    <tr>\n      <th>0</th>\n      <td>0</td>\n      <td>4</td>\n      <td>0</td>\n      <td>Warm Cool</td>\n      <td>Y</td>\n      <td>2.0</td>\n      <td>8</td>\n      <td>4</td>\n      <td>1910.0</td>\n      <td>1988.0</td>\n      <td>1972</td>\n      <td>3.0</td>\n      <td>2003-11-25 00:00:00</td>\n      <td>1095000.0</td>\n      <td>Q</td>\n      <td>1</td>\n      <td>2522.0</td>\n      <td>1</td>\n      <td>3 Story</td>\n      <td>Row Inside</td>\n      <td>Very Good</td>\n      <td>Good</td>\n      <td>Common Brick</td>\n      <td>Metal- Sms</td>\n      <td>Hardwood</td>\n      <td>2.0</td>\n      <td>5</td>\n      <td>24</td>\n      <td>1680</td>\n      <td>2018-07-22 18:01:43</td>\n      <td>Residential</td>\n      <td>NaN</td>\n      <td>NaN</td>\n      <td>1748 SWANN STREET NW</td>\n      <td>WASHINGTON</td>\n      <td>DC</td>\n      <td>20009.0</td>\n      <td>18S UJ 23061 09289</td>\n      <td>38.914680</td>\n      <td>-77.040832</td>\n      <td>Old City 2</td>\n      <td>040 D Old City 2</td>\n      <td>4201.0</td>\n      <td>004201 2006</td>\n      <td>Ward 2</td>\n      <td>152</td>\n      <td>-77.040429</td>\n      <td>38.914881</td>\n      <td>NW</td>\n    </tr>\n    <tr>\n      <th>1</th>\n      <td>1</td>\n      <td>3</td>\n      <td>1</td>\n      <td>Warm Cool</td>\n      <td>Y</td>\n      <td>2.0</td>\n      <td>11</td>\n      <td>5</td>\n      <td>1898.0</td>\n      <td>2007.0</td>\n      <td>1972</td>\n      <td>3.0</td>\n      <td>2000-08-17 00:00:00</td>\n      <td>NaN</td>\n      <td>U</td>\n      <td>1</td>\n      <td>2567.0</td>\n      <td>1</td>\n      <td>3 Story</td>\n      <td>Row Inside</td>\n      <td>Very Good</td>\n      <td>Good</td>\n      <td>Common Brick</td>\n      <td>Built Up</td>\n      <td>Hardwood</td>\n      <td>2.0</td>\n      <td>4</td>\n      <td>24</td>\n      <td>1680</td>\n      <td>2018-07-22 18:01:43</td>\n      <td>Residential</td>\n      <td>NaN</td>\n      <td>NaN</td>\n      <td>1746 SWANN STREET NW</td>\n      <td>WASHINGTON</td>\n      <td>DC</td>\n      <td>20009.0</td>\n      <td>18S UJ 23067 09289</td>\n      <td>38.914683</td>\n      <td>-77.040764</td>\n      <td>Old City 2</td>\n      <td>040 D Old City 2</td>\n      <td>4201.0</td>\n      <td>004201 2006</td>\n      <td>Ward 2</td>\n      <td>152</td>\n      <td>-77.040429</td>\n      <td>38.914881</td>\n      <td>NW</td>\n    </tr>\n    <tr>\n      <th>2</th>\n      <td>2</td>\n      <td>3</td>\n      <td>1</td>\n      <td>Hot Water Rad</td>\n      <td>Y</td>\n      <td>2.0</td>\n      <td>9</td>\n      <td>5</td>\n      <td>1910.0</td>\n      <td>2009.0</td>\n      <td>1984</td>\n      <td>3.0</td>\n      <td>2016-06-21 00:00:00</td>\n      <td>2100000.0</td>\n      <td>Q</td>\n      <td>3</td>\n      <td>2522.0</td>\n      <td>1</td>\n      <td>3 Story</td>\n      <td>Row Inside</td>\n      <td>Very Good</td>\n      <td>Very Good</td>\n      <td>Common Brick</td>\n      <td>Built Up</td>\n      <td>Hardwood</td>\n      <td>2.0</td>\n      <td>4</td>\n      <td>24</td>\n      <td>1680</td>\n      <td>2018-07-22 18:01:43</td>\n      <td>Residential</td>\n      <td>NaN</td>\n      <td>NaN</td>\n      <td>1744 SWANN STREET NW</td>\n      <td>WASHINGTON</td>\n      <td>DC</td>\n      <td>20009.0</td>\n      <td>18S UJ 23074 09289</td>\n      <td>38.914684</td>\n      <td>-77.040678</td>\n      <td>Old City 2</td>\n      <td>040 D Old City 2</td>\n      <td>4201.0</td>\n      <td>004201 2006</td>\n      <td>Ward 2</td>\n      <td>152</td>\n      <td>-77.040429</td>\n      <td>38.914881</td>\n      <td>NW</td>\n    </tr>\n    <tr>\n      <th>3</th>\n      <td>3</td>\n      <td>3</td>\n      <td>1</td>\n      <td>Hot Water Rad</td>\n      <td>Y</td>\n      <td>2.0</td>\n      <td>8</td>\n      <td>5</td>\n      <td>1900.0</td>\n      <td>2003.0</td>\n      <td>1984</td>\n      <td>3.0</td>\n      <td>2006-07-12 00:00:00</td>\n      <td>1602000.0</td>\n      <td>Q</td>\n      <td>1</td>\n      <td>2484.0</td>\n      <td>1</td>\n      <td>3 Story</td>\n      <td>Row Inside</td>\n      <td>Very Good</td>\n      <td>Good</td>\n      <td>Common Brick</td>\n      <td>Built Up</td>\n      <td>Hardwood</td>\n      <td>2.0</td>\n      <td>3</td>\n      <td>24</td>\n      <td>1680</td>\n      <td>2018-07-22 18:01:43</td>\n      <td>Residential</td>\n      <td>NaN</td>\n      <td>NaN</td>\n      <td>1742 SWANN STREET NW</td>\n      <td>WASHINGTON</td>\n      <td>DC</td>\n      <td>20009.0</td>\n      <td>18S UJ 23078 09288</td>\n      <td>38.914683</td>\n      <td>-77.040629</td>\n      <td>Old City 2</td>\n      <td>040 D Old City 2</td>\n      <td>4201.0</td>\n      <td>004201 2006</td>\n      <td>Ward 2</td>\n      <td>152</td>\n      <td>-77.040429</td>\n      <td>38.914881</td>\n      <td>NW</td>\n    </tr>\n    <tr>\n      <th>4</th>\n      <td>4</td>\n      <td>2</td>\n      <td>1</td>\n      <td>Warm Cool</td>\n      <td>Y</td>\n      <td>1.0</td>\n      <td>11</td>\n      <td>3</td>\n      <td>1913.0</td>\n      <td>2012.0</td>\n      <td>1985</td>\n      <td>3.0</td>\n      <td>NaN</td>\n      <td>NaN</td>\n      <td>U</td>\n      <td>1</td>\n      <td>5255.0</td>\n      <td>1</td>\n      <td>3 Story</td>\n      <td>Semi-Detached</td>\n      <td>Very Good</td>\n      <td>Good</td>\n      <td>Common Brick</td>\n      <td>Neopren</td>\n      <td>Hardwood</td>\n      <td>1.0</td>\n      <td>0</td>\n      <td>13</td>\n      <td>2032</td>\n      <td>2018-07-22 18:01:43</td>\n      <td>Residential</td>\n      <td>NaN</td>\n      <td>NaN</td>\n      <td>1804 NEW HAMPSHIRE AVENUE NW</td>\n      <td>WASHINGTON</td>\n      <td>DC</td>\n      <td>20009.0</td>\n      <td>18S UJ 23188 09253</td>\n      <td>38.914383</td>\n      <td>-77.039361</td>\n      <td>Old City 2</td>\n      <td>040 D Old City 2</td>\n      <td>4201.0</td>\n      <td>004201 2006</td>\n      <td>Ward 2</td>\n      <td>152</td>\n      <td>-77.040429</td>\n      <td>38.914881</td>\n      <td>NW</td>\n    </tr>\n  </tbody>\n</table>\n</div>",
            "text/plain": "   Unnamed: 0  BATHRM  HF_BATHRM           HEAT AC  NUM_UNITS  ROOMS  BEDRM     AYB  YR_RMDL   EYB  STORIES             SALEDATE      PRICE QUALIFIED  SALE_NUM     GBA  BLDG_NUM    STYLE         STRUCT      GRADE      CNDTN       EXTWALL        ROOF   INTWALL  KITCHENS  FIREPLACES  USECODE  LANDAREA    GIS_LAST_MOD_DTTM       SOURCE  CMPLX_NUM  LIVING_GBA                   FULLADDRESS        CITY STATE  ZIPCODE        NATIONALGRID   LATITUDE  LONGITUDE ASSESSMENT_NBHD ASSESSMENT_SUBNBHD  CENSUS_TRACT CENSUS_BLOCK    WARD SQUARE          X          Y QUADRANT\n0           0       4          0      Warm Cool  Y        2.0      8      4  1910.0   1988.0  1972      3.0  2003-11-25 00:00:00  1095000.0         Q         1  2522.0         1  3 Story     Row Inside  Very Good       Good  Common Brick  Metal- Sms  Hardwood       2.0           5       24      1680  2018-07-22 18:01:43  Residential        NaN         NaN          1748 SWANN STREET NW  WASHINGTON    DC  20009.0  18S UJ 23061 09289  38.914680 -77.040832      Old City 2   040 D Old City 2        4201.0  004201 2006  Ward 2    152 -77.040429  38.914881       NW\n1           1       3          1      Warm Cool  Y        2.0     11      5  1898.0   2007.0  1972      3.0  2000-08-17 00:00:00        NaN         U         1  2567.0         1  3 Story     Row Inside  Very Good       Good  Common Brick    Built Up  Hardwood       2.0           4       24      1680  2018-07-22 18:01:43  Residential        NaN         NaN          1746 SWANN STREET NW  WASHINGTON    DC  20009.0  18S UJ 23067 09289  38.914683 -77.040764      Old City 2   040 D Old City 2        4201.0  004201 2006  Ward 2    152 -77.040429  38.914881       NW\n2           2       3          1  Hot Water Rad  Y        2.0      9      5  1910.0   2009.0  1984      3.0  2016-06-21 00:00:00  2100000.0         Q         3  2522.0         1  3 Story     Row Inside  Very Good  Very Good  Common Brick    Built Up  Hardwood       2.0           4       24      1680  2018-07-22 18:01:43  Residential        NaN         NaN          1744 SWANN STREET NW  WASHINGTON    DC  20009.0  18S UJ 23074 09289  38.914684 -77.040678      Old City 2   040 D Old City 2        4201.0  004201 2006  Ward 2    152 -77.040429  38.914881       NW\n3           3       3          1  Hot Water Rad  Y        2.0      8      5  1900.0   2003.0  1984      3.0  2006-07-12 00:00:00  1602000.0         Q         1  2484.0         1  3 Story     Row Inside  Very Good       Good  Common Brick    Built Up  Hardwood       2.0           3       24      1680  2018-07-22 18:01:43  Residential        NaN         NaN          1742 SWANN STREET NW  WASHINGTON    DC  20009.0  18S UJ 23078 09288  38.914683 -77.040629      Old City 2   040 D Old City 2        4201.0  004201 2006  Ward 2    152 -77.040429  38.914881       NW\n4           4       2          1      Warm Cool  Y        1.0     11      3  1913.0   2012.0  1985      3.0                  NaN        NaN         U         1  5255.0         1  3 Story  Semi-Detached  Very Good       Good  Common Brick     Neopren  Hardwood       1.0           0       13      2032  2018-07-22 18:01:43  Residential        NaN         NaN  1804 NEW HAMPSHIRE AVENUE NW  WASHINGTON    DC  20009.0  18S UJ 23188 09253  38.914383 -77.039361      Old City 2   040 D Old City 2        4201.0  004201 2006  Ward 2    152 -77.040429  38.914881       NW"
          },
          "metadata": {}
        }
      ]
    },
    {
      "metadata": {
        "trusted": true
      },
      "cell_type": "code",
      "source": "dupe = df.duplicated() #creates list of True/False values\ndf[dupe] #shows rows where duplicated is True",
      "execution_count": 6,
      "outputs": [
        {
          "output_type": "execute_result",
          "execution_count": 6,
          "data": {
            "text/html": "<div>\n<style scoped>\n    .dataframe tbody tr th:only-of-type {\n        vertical-align: middle;\n    }\n\n    .dataframe tbody tr th {\n        vertical-align: top;\n    }\n\n    .dataframe thead th {\n        text-align: right;\n    }\n</style>\n<table border=\"1\" class=\"dataframe\">\n  <thead>\n    <tr style=\"text-align: right;\">\n      <th></th>\n      <th>Unnamed: 0</th>\n      <th>BATHRM</th>\n      <th>HF_BATHRM</th>\n      <th>HEAT</th>\n      <th>AC</th>\n      <th>NUM_UNITS</th>\n      <th>ROOMS</th>\n      <th>BEDRM</th>\n      <th>AYB</th>\n      <th>YR_RMDL</th>\n      <th>EYB</th>\n      <th>STORIES</th>\n      <th>SALEDATE</th>\n      <th>PRICE</th>\n      <th>QUALIFIED</th>\n      <th>SALE_NUM</th>\n      <th>GBA</th>\n      <th>BLDG_NUM</th>\n      <th>STYLE</th>\n      <th>STRUCT</th>\n      <th>GRADE</th>\n      <th>CNDTN</th>\n      <th>EXTWALL</th>\n      <th>ROOF</th>\n      <th>INTWALL</th>\n      <th>KITCHENS</th>\n      <th>FIREPLACES</th>\n      <th>USECODE</th>\n      <th>LANDAREA</th>\n      <th>GIS_LAST_MOD_DTTM</th>\n      <th>SOURCE</th>\n      <th>CMPLX_NUM</th>\n      <th>LIVING_GBA</th>\n      <th>FULLADDRESS</th>\n      <th>CITY</th>\n      <th>STATE</th>\n      <th>ZIPCODE</th>\n      <th>NATIONALGRID</th>\n      <th>LATITUDE</th>\n      <th>LONGITUDE</th>\n      <th>ASSESSMENT_NBHD</th>\n      <th>ASSESSMENT_SUBNBHD</th>\n      <th>CENSUS_TRACT</th>\n      <th>CENSUS_BLOCK</th>\n      <th>WARD</th>\n      <th>SQUARE</th>\n      <th>X</th>\n      <th>Y</th>\n      <th>QUADRANT</th>\n    </tr>\n  </thead>\n  <tbody>\n  </tbody>\n</table>\n</div>",
            "text/plain": "Empty DataFrame\nColumns: [Unnamed: 0, BATHRM, HF_BATHRM, HEAT, AC, NUM_UNITS, ROOMS, BEDRM, AYB, YR_RMDL, EYB, STORIES, SALEDATE, PRICE, QUALIFIED, SALE_NUM, GBA, BLDG_NUM, STYLE, STRUCT, GRADE, CNDTN, EXTWALL, ROOF, INTWALL, KITCHENS, FIREPLACES, USECODE, LANDAREA, GIS_LAST_MOD_DTTM, SOURCE, CMPLX_NUM, LIVING_GBA, FULLADDRESS, CITY, STATE, ZIPCODE, NATIONALGRID, LATITUDE, LONGITUDE, ASSESSMENT_NBHD, ASSESSMENT_SUBNBHD, CENSUS_TRACT, CENSUS_BLOCK, WARD, SQUARE, X, Y, QUADRANT]\nIndex: []"
          },
          "metadata": {}
        }
      ]
    },
    {
      "metadata": {
        "trusted": true
      },
      "cell_type": "code",
      "source": "",
      "execution_count": null,
      "outputs": []
    }
  ],
  "metadata": {
    "kernelspec": {
      "name": "python36",
      "display_name": "Python 3.6",
      "language": "python"
    },
    "language_info": {
      "mimetype": "text/x-python",
      "nbconvert_exporter": "python",
      "name": "python",
      "pygments_lexer": "ipython3",
      "version": "3.6.6",
      "file_extension": ".py",
      "codemirror_mode": {
        "version": 3,
        "name": "ipython"
      }
    }
  },
  "nbformat": 4,
  "nbformat_minor": 2
}